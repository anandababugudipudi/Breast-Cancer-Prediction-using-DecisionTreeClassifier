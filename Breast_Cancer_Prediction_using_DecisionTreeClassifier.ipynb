{
  "nbformat": 4,
  "nbformat_minor": 0,
  "metadata": {
    "colab": {
      "name": "Breast-Cancer-Prediction-using-DecisionTreeClassifier.ipynb",
      "provenance": [],
      "collapsed_sections": [],
      "authorship_tag": "ABX9TyNXqRaj3VnRm35AJNJipbAS",
      "include_colab_link": true
    },
    "kernelspec": {
      "name": "python3",
      "display_name": "Python 3"
    },
    "language_info": {
      "name": "python"
    }
  },
  "cells": [
    {
      "cell_type": "markdown",
      "metadata": {
        "id": "view-in-github",
        "colab_type": "text"
      },
      "source": [
        "<a href=\"https://colab.research.google.com/github/anandababugudipudi/Breast-Cancer-Prediction-using-DecisionTreeClassifier/blob/main/Breast_Cancer_Prediction_using_DecisionTreeClassifier.ipynb\" target=\"_parent\"><img src=\"https://colab.research.google.com/assets/colab-badge.svg\" alt=\"Open In Colab\"/></a>"
      ]
    },
    {
      "cell_type": "code",
      "metadata": {
        "id": "hkklwLJOzul5"
      },
      "source": [
        "import numpy as np\n",
        "import pandas as pd\n",
        "from sklearn.tree import DecisionTreeClassifier\n",
        "from sklearn.model_selection import train_test_split, cross_validate, GridSearchCV\n",
        "from sklearn.datasets import load_breast_cancer\n",
        "from sklearn.metrics import confusion_matrix, accuracy_score"
      ],
      "execution_count": null,
      "outputs": []
    },
    {
      "cell_type": "code",
      "metadata": {
        "id": "prksbchKz_mE"
      },
      "source": [
        "cancer_data = load_breast_cancer()"
      ],
      "execution_count": null,
      "outputs": []
    },
    {
      "cell_type": "code",
      "metadata": {
        "colab": {
          "base_uri": "https://localhost:8080/"
        },
        "id": "9pCRNhTx0FGh",
        "outputId": "8781e76f-2979-4330-8205-021d7b9e5ebe"
      },
      "source": [
        "X = cancer_data.data\n",
        "y = cancer_data.target\n",
        "print(X.shape)\n",
        "print(y.shape)"
      ],
      "execution_count": null,
      "outputs": [
        {
          "output_type": "stream",
          "text": [
            "(569, 30)\n",
            "(569,)\n"
          ],
          "name": "stdout"
        }
      ]
    },
    {
      "cell_type": "code",
      "metadata": {
        "id": "0JWAFS4Y2jbt"
      },
      "source": [
        "#param_grid = {'max_depth': np.arange(1, 10)}"
      ],
      "execution_count": null,
      "outputs": []
    },
    {
      "cell_type": "code",
      "metadata": {
        "id": "mrknvfI-0KdT"
      },
      "source": [
        "X_train, X_test, y_train, y_test = train_test_split(X, y, test_size = 0.2, random_state = 122)"
      ],
      "execution_count": null,
      "outputs": []
    },
    {
      "cell_type": "code",
      "metadata": {
        "id": "DRLc4SKQ1Rzh"
      },
      "source": [
        "model = DecisionTreeClassifier(criterion = 'gini', max_depth = 5)"
      ],
      "execution_count": null,
      "outputs": []
    },
    {
      "cell_type": "code",
      "metadata": {
        "id": "0COP9z4U2tW7"
      },
      "source": [
        "'''\n",
        "tree = GridSearchCV(model, param_grid)\n",
        "tree.fit(X_train, y_train)\n",
        "print(\"Best parameter with Grid Search: \", tree.best_params_)\n",
        "grid_predictions = tree.predict(X_test)\n",
        "print(confusion_matrix(y_test, grid_predictions))\n",
        "print(accuracy_score(y_test, grid_predictions))\n",
        "'''"
      ],
      "execution_count": null,
      "outputs": []
    },
    {
      "cell_type": "code",
      "metadata": {
        "colab": {
          "base_uri": "https://localhost:8080/"
        },
        "id": "Lh3zhOre2-BL",
        "outputId": "b80c6282-eddd-40b7-b5a0-593db50fed34"
      },
      "source": [
        "predicted = cross_validate(model, X, y, cv = 10)\n",
        "print(np.mean(predicted['test_score']))"
      ],
      "execution_count": null,
      "outputs": [
        {
          "output_type": "stream",
          "text": [
            "0.9262218045112782\n"
          ],
          "name": "stdout"
        }
      ]
    },
    {
      "cell_type": "code",
      "metadata": {
        "colab": {
          "base_uri": "https://localhost:8080/"
        },
        "id": "Gl77x97j3QFq",
        "outputId": "058b77ba-e303-4c66-d2d5-6f2fcb580566"
      },
      "source": [
        ""
      ],
      "execution_count": null,
      "outputs": [
        {
          "output_type": "stream",
          "text": [
            "[[ 8  0  0]\n",
            " [ 0 10  1]\n",
            " [ 0  2  9]]\n",
            "0.9\n"
          ],
          "name": "stdout"
        }
      ]
    }
  ]
}